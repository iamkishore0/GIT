{
  "nbformat": 4,
  "nbformat_minor": 0,
  "metadata": {
    "colab": {
      "provenance": [],
      "authorship_tag": "ABX9TyOJrhprnSfivynPzjDafVKH",
      "include_colab_link": true
    },
    "kernelspec": {
      "name": "python3",
      "display_name": "Python 3"
    },
    "language_info": {
      "name": "python"
    }
  },
  "cells": [
    {
      "cell_type": "markdown",
      "metadata": {
        "id": "view-in-github",
        "colab_type": "text"
      },
      "source": [
        "<a href=\"https://colab.research.google.com/github/iamkishore0/GIT/blob/main/Git_part_2.ipynb\" target=\"_parent\"><img src=\"https://colab.research.google.com/assets/colab-badge.svg\" alt=\"Open In Colab\"/></a>"
      ]
    },
    {
      "cell_type": "markdown",
      "source": [
        "# Clone github repository to git"
      ],
      "metadata": {
        "id": "5PWP3fEmpkw1"
      }
    },
    {
      "cell_type": "code",
      "source": [
        "git clone <!github repo url!>"
      ],
      "metadata": {
        "id": "e17Y39JlphDm"
      },
      "execution_count": null,
      "outputs": []
    },
    {
      "cell_type": "markdown",
      "source": [
        "# Config git user"
      ],
      "metadata": {
        "id": "hHCEH-15piCN"
      }
    },
    {
      "cell_type": "code",
      "source": [
        "git config --global user.name \"<user name>\""
      ],
      "metadata": {
        "id": "vroMfIFBpj19"
      },
      "execution_count": null,
      "outputs": []
    },
    {
      "cell_type": "code",
      "source": [
        "git config --global user.email \"<email id>\""
      ],
      "metadata": {
        "id": "mQQ0QhRuoCNB"
      },
      "execution_count": null,
      "outputs": []
    },
    {
      "cell_type": "code",
      "source": [
        "git config --list"
      ],
      "metadata": {
        "id": "o9CH6PYjpSJ2"
      },
      "execution_count": null,
      "outputs": []
    },
    {
      "cell_type": "markdown",
      "source": [
        "# Check git commit history"
      ],
      "metadata": {
        "id": "zxJnwTTHq3OG"
      }
    },
    {
      "cell_type": "code",
      "source": [
        "git log"
      ],
      "metadata": {
        "id": "qIz_mND5q63_"
      },
      "execution_count": null,
      "outputs": []
    },
    {
      "cell_type": "markdown",
      "source": [
        "# Compare differences between two logs"
      ],
      "metadata": {
        "id": "dRqjIT0Jq8W1"
      }
    },
    {
      "cell_type": "code",
      "source": [
        "git diff <!commit_id1!>..<!commit_id2!>"
      ],
      "metadata": {
        "id": "-RrIh6tlrBrl"
      },
      "execution_count": null,
      "outputs": []
    },
    {
      "cell_type": "markdown",
      "source": [
        "# Get the full git information about git commit - inspecting particular commit and it's full data"
      ],
      "metadata": {
        "id": "8APN6pJVraSc"
      }
    },
    {
      "cell_type": "code",
      "source": [
        "git show <!commit_id!>"
      ],
      "metadata": {
        "id": "JiJsky_1sRdc"
      },
      "execution_count": null,
      "outputs": []
    }
  ]
}