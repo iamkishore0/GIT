{
  "nbformat": 4,
  "nbformat_minor": 0,
  "metadata": {
    "colab": {
      "provenance": [],
      "authorship_tag": "ABX9TyNJetEN19JMeaJUJJLgRgtI",
      "include_colab_link": true
    },
    "kernelspec": {
      "name": "python3",
      "display_name": "Python 3"
    },
    "language_info": {
      "name": "python"
    }
  },
  "cells": [
    {
      "cell_type": "markdown",
      "metadata": {
        "id": "view-in-github",
        "colab_type": "text"
      },
      "source": [
        "<a href=\"https://colab.research.google.com/github/iamkishore0/GIT/blob/main/Git_part_1.ipynb\" target=\"_parent\"><img src=\"https://colab.research.google.com/assets/colab-badge.svg\" alt=\"Open In Colab\"/></a>"
      ]
    },
    {
      "cell_type": "markdown",
      "source": [
        "# Install GIT"
      ],
      "metadata": {
        "id": "0sH3gSUgi_Tg"
      }
    },
    {
      "cell_type": "code",
      "source": [
        "yum install git -y"
      ],
      "metadata": {
        "id": "I5RYb-BzjEDY"
      },
      "execution_count": null,
      "outputs": []
    },
    {
      "cell_type": "markdown",
      "source": [
        "#  Create a directory for local repository"
      ],
      "metadata": {
        "id": "C9JPTB3SjGu_"
      }
    },
    {
      "cell_type": "code",
      "source": [
        "mkdir git_local_repo"
      ],
      "metadata": {
        "id": "yl4QqAiVjWUh"
      },
      "execution_count": null,
      "outputs": []
    },
    {
      "cell_type": "markdown",
      "source": [
        "# Switch to that directory"
      ],
      "metadata": {
        "id": "87V1NY8cjd6Y"
      }
    },
    {
      "cell_type": "code",
      "source": [
        "cd git_local_repo"
      ],
      "metadata": {
        "id": "dWlbTEWyjtdA"
      },
      "execution_count": null,
      "outputs": []
    },
    {
      "cell_type": "markdown",
      "source": [
        "# Create local repo"
      ],
      "metadata": {
        "id": "lxRLDpQnjwPA"
      }
    },
    {
      "cell_type": "code",
      "source": [
        "git init ."
      ],
      "metadata": {
        "id": "IP5Bccgujza_"
      },
      "execution_count": null,
      "outputs": []
    },
    {
      "cell_type": "markdown",
      "source": [
        "# Create a file"
      ],
      "metadata": {
        "id": "4DavbSmnj133"
      }
    },
    {
      "cell_type": "code",
      "source": [
        "touch file1"
      ],
      "metadata": {
        "id": "dcn6MV5nj43q"
      },
      "execution_count": null,
      "outputs": []
    },
    {
      "cell_type": "markdown",
      "source": [
        "# Check git status"
      ],
      "metadata": {
        "id": "f-HQACZyj8Ov"
      }
    },
    {
      "cell_type": "code",
      "source": [
        "git status"
      ],
      "metadata": {
        "id": "h0CoSYPsj-0n"
      },
      "execution_count": null,
      "outputs": []
    },
    {
      "cell_type": "markdown",
      "source": [
        "# Add file1 to git tracking"
      ],
      "metadata": {
        "id": "A5TJUQehkAHc"
      }
    },
    {
      "cell_type": "code",
      "source": [
        "git add file1"
      ],
      "metadata": {
        "id": "0hgIZVvxkFoe"
      },
      "execution_count": null,
      "outputs": []
    },
    {
      "cell_type": "markdown",
      "source": [
        "# Now check again about git status"
      ],
      "metadata": {
        "id": "YwAHRvgDkLLU"
      }
    },
    {
      "cell_type": "code",
      "source": [
        "git status"
      ],
      "metadata": {
        "id": "tDiP17FVkPkZ"
      },
      "execution_count": null,
      "outputs": []
    },
    {
      "cell_type": "markdown",
      "source": [
        "# Now commit the file1"
      ],
      "metadata": {
        "id": "9cH4JOZfkSNv"
      }
    },
    {
      "cell_type": "code",
      "source": [
        "git commit -m \"this is my first commit\" file1"
      ],
      "metadata": {
        "id": "loSvY04SkogP"
      },
      "execution_count": null,
      "outputs": []
    },
    {
      "cell_type": "markdown",
      "source": [
        "# Check git branch"
      ],
      "metadata": {
        "id": "jAV1zDCSk1Ee"
      }
    },
    {
      "cell_type": "code",
      "source": [
        "git branch"
      ],
      "metadata": {
        "id": "y1BgZq_xk5A9"
      },
      "execution_count": null,
      "outputs": []
    },
    {
      "cell_type": "markdown",
      "source": [
        "# Update github url"
      ],
      "metadata": {
        "id": "RHQyyQSck6yo"
      }
    },
    {
      "cell_type": "code",
      "source": [
        "git remote add origin <github url>"
      ],
      "metadata": {
        "id": "OIRoYbpwlEkA"
      },
      "execution_count": null,
      "outputs": []
    },
    {
      "cell_type": "markdown",
      "source": [
        "# Push changes to central repository"
      ],
      "metadata": {
        "id": "7BV2z8-LlLlK"
      }
    },
    {
      "cell_type": "code",
      "source": [
        "git push origin master"
      ],
      "metadata": {
        "id": "733Z8OGNlPLn"
      },
      "execution_count": null,
      "outputs": []
    }
  ]
}