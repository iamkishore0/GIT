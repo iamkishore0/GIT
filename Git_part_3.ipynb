{
  "nbformat": 4,
  "nbformat_minor": 0,
  "metadata": {
    "colab": {
      "provenance": [],
      "authorship_tag": "ABX9TyNpfF0WHBwdo1evWo02iaUg",
      "include_colab_link": true
    },
    "kernelspec": {
      "name": "python3",
      "display_name": "Python 3"
    },
    "language_info": {
      "name": "python"
    }
  },
  "cells": [
    {
      "cell_type": "markdown",
      "metadata": {
        "id": "view-in-github",
        "colab_type": "text"
      },
      "source": [
        "<a href=\"https://colab.research.google.com/github/iamkishore0/GIT/blob/main/Git_part_3.ipynb\" target=\"_parent\"><img src=\"https://colab.research.google.com/assets/colab-badge.svg\" alt=\"Open In Colab\"/></a>"
      ]
    },
    {
      "cell_type": "markdown",
      "source": [
        "#Check existing git branches"
      ],
      "metadata": {
        "id": "hXQcgPCStI6H"
      }
    },
    {
      "cell_type": "code",
      "source": [
        "git branch"
      ],
      "metadata": {
        "id": "ChLHFWGVtMUM"
      },
      "execution_count": null,
      "outputs": []
    },
    {
      "cell_type": "markdown",
      "source": [
        "# Create a git branch"
      ],
      "metadata": {
        "id": "9wrenDrZtRU0"
      }
    },
    {
      "cell_type": "code",
      "source": [
        "git branch <!branch name!>"
      ],
      "metadata": {
        "id": "_O4P3w-EtUCd"
      },
      "execution_count": null,
      "outputs": []
    },
    {
      "cell_type": "markdown",
      "source": [
        "# Checkout to a branch"
      ],
      "metadata": {
        "id": "44Y2Va8-tYX-"
      }
    },
    {
      "cell_type": "code",
      "source": [
        "git checkout <!branch name!>"
      ],
      "metadata": {
        "id": "QjFPI7sltems"
      },
      "execution_count": null,
      "outputs": []
    },
    {
      "cell_type": "markdown",
      "source": [
        "# Add all file to new branch"
      ],
      "metadata": {
        "id": "7vnTVrQftmiE"
      }
    },
    {
      "cell_type": "code",
      "source": [
        "git add ."
      ],
      "metadata": {
        "id": "0CDd2Q0XtwP9"
      },
      "execution_count": null,
      "outputs": []
    },
    {
      "cell_type": "markdown",
      "source": [
        "# Commit all files"
      ],
      "metadata": {
        "id": "hhsW7Rc1tyqU"
      }
    },
    {
      "cell_type": "code",
      "source": [
        "git commit -m \"<commit message>\" ."
      ],
      "metadata": {
        "id": "9CJoVN-Mt0tE"
      },
      "execution_count": null,
      "outputs": []
    },
    {
      "cell_type": "markdown",
      "source": [
        "#push branch to github"
      ],
      "metadata": {
        "id": "Bt9Uln8ct7sM"
      }
    },
    {
      "cell_type": "code",
      "source": [
        "git push origin <!branch name!>"
      ],
      "metadata": {
        "id": "gcqxBL7PuAdk"
      },
      "execution_count": null,
      "outputs": []
    },
    {
      "cell_type": "markdown",
      "source": [
        "# Rename local git branch"
      ],
      "metadata": {
        "id": "JNvQkaxuuFmG"
      }
    },
    {
      "cell_type": "code",
      "source": [
        "git branch -m <!old branch name!> <!new branch name!>"
      ],
      "metadata": {
        "id": "7nhiQmG8uNiE"
      },
      "execution_count": null,
      "outputs": []
    },
    {
      "cell_type": "markdown",
      "source": [
        "# Update branch rename to central"
      ],
      "metadata": {
        "id": "KiP4R_FWuZ1s"
      }
    },
    {
      "cell_type": "code",
      "source": [
        "git push origin :<!old branch name!> <!new branch name!>"
      ],
      "metadata": {
        "id": "_lyYmRLtujbK"
      },
      "execution_count": null,
      "outputs": []
    },
    {
      "cell_type": "markdown",
      "source": [
        "# Delete local branch"
      ],
      "metadata": {
        "id": "wb54yBgwunGS"
      }
    },
    {
      "cell_type": "code",
      "source": [
        "git branch -d <!branch name!>"
      ],
      "metadata": {
        "id": "rLCA832puy48"
      },
      "execution_count": null,
      "outputs": []
    },
    {
      "cell_type": "markdown",
      "source": [
        "# Delete central branch"
      ],
      "metadata": {
        "id": "K4IffJ7Au7gu"
      }
    },
    {
      "cell_type": "code",
      "source": [
        "git push origin --delete <!branch_name!>"
      ],
      "metadata": {
        "id": "BvA01wLlvGQ0"
      },
      "execution_count": null,
      "outputs": []
    }
  ]
}